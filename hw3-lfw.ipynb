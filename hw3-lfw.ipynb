{
 "cells": [
  {
   "cell_type": "markdown",
   "metadata": {
    "collapsed": true
   },
   "source": [
    "# Homework #3 - Labeled Faces in the Wild"
   ]
  },
  {
   "cell_type": "code",
   "execution_count": 1,
   "metadata": {
    "collapsed": true
   },
   "outputs": [],
   "source": [
    "from time import time\n",
    "import numpy as np\n",
    "\n",
    "from sklearn.decomposition import PCA\n",
    "from sklearn.svm import SVC\n",
    "from sklearn.svm import LinearSVC\n",
    "from sklearn.model_selection import train_test_split\n",
    "from sklearn.model_selection import GridSearchCV\n",
    "from sklearn.metrics import classification_report\n",
    "from sklearn.metrics import confusion_matrix\n",
    "from sklearn.multiclass import OneVsOneClassifier\n",
    "from sklearn.multiclass import OneVsRestClassifier\n",
    "from sklearn.ensemble import AdaBoostClassifier\n",
    "from sklearn.ensemble import GradientBoostingClassifier\n",
    "from sklearn.tree import DecisionTreeClassifier\n",
    "from sklearn.neural_network import MLPClassifier"
   ]
  },
  {
   "cell_type": "code",
   "execution_count": 2,
   "metadata": {
    "collapsed": false
   },
   "outputs": [
    {
     "name": "stdout",
     "output_type": "stream",
     "text": [
      "data loaded\n"
     ]
    }
   ],
   "source": [
    "#  Images are single-channel with pixel intensity represented by a float value from 0 to 255,\n",
    "#  the single-channel intensity is the mean value of the original RGB channel intensities.\n",
    "\n",
    "# X_train.npy: training data numpy array.\n",
    "# Each row in the array corresponds to an image unrolled to a vector (50 x 37 = 1850 dimension)\n",
    "X_train = np.load('X_train.npy')\n",
    "# y_train.npy: labels (0-6) of each data corresponding to the image in the same row in X_train.npy\n",
    "y_train = np.load('y_train.npy')\n",
    "# X_test.npy: test data numpy array.\n",
    "X_test = np.load('X_test.npy')\n",
    "print(\"data loaded\")"
   ]
  },
  {
   "cell_type": "code",
   "execution_count": 3,
   "metadata": {
    "collapsed": false
   },
   "outputs": [],
   "source": [
    "# Generate testResults.csv\n",
    "# Run this with y_pred\n",
    "\n",
    "def saveTestResults(y_pred, filename='testResult.csv'):\n",
    "    fo = open(filename, 'w')\n",
    "    fo.write(\"ImageId,PredictedClass\\n\")\n",
    "    for i in range(len(y_pred)):\n",
    "        if i == len(y_pred) - 1:\n",
    "            fo.write(str(i) + \",\" + str(y_pred[i]))\n",
    "        else:\n",
    "            fo.write(str(i) + \",\" + str(y_pred[i]) + \"\\n\")\n",
    "    fo.close()\n",
    "    \n",
    "# to calculate number of classes\n",
    "def calculateClass(label):\n",
    "    n_classes = []\n",
    "    for n_class in label:\n",
    "        if n_class not in n_classes:\n",
    "            n_classes.append(n_class)\n",
    "        else:\n",
    "            continue\n",
    "    return len(n_classes)"
   ]
  },
  {
   "cell_type": "code",
   "execution_count": 4,
   "metadata": {
    "collapsed": false
   },
   "outputs": [
    {
     "name": "stdout",
     "output_type": "stream",
     "text": [
      "Train data size:\n",
      "n_samples: 724\n",
      "n_features: 1850\n",
      "n_classes: 7\n",
      "Test data size:\n",
      "n_samples: 242\n",
      "n_features: 1850\n",
      "n_classes: 7\n"
     ]
    }
   ],
   "source": [
    "# Split data (75% train, 25% test) to generate Ein and Eout.\n",
    "X_train_split, X_test_split, y_train_split, y_test_split = train_test_split(X_train, y_train, test_size=0.25, random_state=42)\n",
    "\n",
    "print(\"Train data size:\")\n",
    "print(\"n_samples: %d\" % len(X_train_split))\n",
    "print(\"n_features: %d\" % len(X_train_split[0]))\n",
    "print(\"n_classes: %d\" % calculateClass(y_train_split))\n",
    "\n",
    "print(\"Test data size:\")\n",
    "print(\"n_samples: %d\" % len(X_test_split))\n",
    "print(\"n_features: %d\" % len(X_test_split[0]))\n",
    "print(\"n_classes: %d\" % calculateClass(y_test_split))\n"
   ]
  },
  {
   "cell_type": "code",
   "execution_count": 5,
   "metadata": {
    "collapsed": false
   },
   "outputs": [
    {
     "name": "stdout",
     "output_type": "stream",
     "text": [
      "Extracting the top 150 eigenfaces from 724 faces\n",
      "done in 0.378s\n",
      "Projecting the input data on the eigenfaces orthonormal basis\n",
      "done in 0.014s\n"
     ]
    }
   ],
   "source": [
    "# getting eigenfaces from input data\n",
    "n_components = 150\n",
    "h = 50\n",
    "w = 37\n",
    "print(\"Extracting the top %d eigenfaces from %d faces\"\n",
    "      % (n_components, X_train_split.shape[0]))\n",
    "t0 = time()\n",
    "pca = PCA(n_components=n_components, svd_solver='arpack',\n",
    "          whiten=True).fit(X_train_split)\n",
    "print(\"done in %0.3fs\" % (time() - t0))\n",
    "\n",
    "eigenfaces = pca.components_.reshape((n_components, h, w))\n",
    "print(\"Projecting the input data on the eigenfaces orthonormal basis\")\n",
    "\n",
    "t0 = time()\n",
    "X_train_split_pca = pca.transform(X_train_split)\n",
    "X_test_split_pca = pca.transform(X_test_split)\n",
    "\n",
    "print(\"done in %0.3fs\" % (time() - t0))\n"
   ]
  },
  {
   "cell_type": "code",
   "execution_count": 6,
   "metadata": {
    "collapsed": false
   },
   "outputs": [
    {
     "name": "stdout",
     "output_type": "stream",
     "text": [
      "Fitting the classifier to the training set\n",
      "performing with SVC using OneVsRest Classifier\n",
      "Ein\n",
      "             precision    recall  f1-score   support\n",
      "\n",
      "          0       1.00      1.00      1.00        38\n",
      "          1       1.00      1.00      1.00       143\n",
      "          2       1.00      1.00      1.00        59\n",
      "          3       1.00      1.00      1.00       303\n",
      "          4       1.00      1.00      1.00        53\n",
      "          5       1.00      1.00      1.00        49\n",
      "          6       1.00      1.00      1.00        79\n",
      "\n",
      "avg / total       1.00      1.00      1.00       724\n",
      "\n",
      "Eout\n",
      "             precision    recall  f1-score   support\n",
      "\n",
      "          0       1.00      0.38      0.56        13\n",
      "          1       0.86      0.93      0.89        40\n",
      "          2       0.89      0.62      0.73        26\n",
      "          3       0.77      0.99      0.87        92\n",
      "          4       0.95      0.64      0.76        33\n",
      "          5       1.00      0.73      0.84        11\n",
      "          6       0.82      0.85      0.84        27\n",
      "\n",
      "avg / total       0.85      0.83      0.82       242\n",
      "\n",
      "done in 283.184s\n"
     ]
    }
   ],
   "source": [
    "# GridSearchCV with SVC using OneVsRest classifier (best kaggle result)\n",
    "print(\"Fitting the classifier to the training set\")\n",
    "print(\"performing with SVC using OneVsRest Classifier\")\n",
    "\n",
    "model_to_set = OneVsRestClassifier(SVC(kernel=\"rbf\"))\n",
    "parameters = {\n",
    "    \"estimator__C\": [1, 3, 5, 1e1, 5e1, 1e2, 1e3],\n",
    "    \"estimator__kernel\": [\"rbf\"],\n",
    "    \"estimator__gamma\":[0.0001, 0.0005, 0.001, 0.005, 0.01, 0.1]\n",
    "}\n",
    "\n",
    "clf = GridSearchCV(model_to_set, param_grid=parameters, cv=10)\n",
    "clf = clf.fit(X_train_split_pca, y_train_split)\n",
    "\n",
    "print(\"Ein\")\n",
    "internal_pred = clf.predict(X_train_split_pca)\n",
    "print(classification_report(y_train_split, internal_pred))\n",
    "\n",
    "print(\"Eout\")\n",
    "y_pred = clf.predict(X_test_split_pca)\n",
    "print(classification_report(y_test_split, y_pred))\n",
    "print(\"done in %0.3fs\" % (time() - t0))\n"
   ]
  },
  {
   "cell_type": "code",
   "execution_count": 7,
   "metadata": {
    "collapsed": false
   },
   "outputs": [
    {
     "name": "stdout",
     "output_type": "stream",
     "text": [
      "Fitting the classifier to the training set for Neural Network\n",
      "done in 0.661s\n",
      "Ein\n",
      "             precision    recall  f1-score   support\n",
      "\n",
      "          0       1.00      1.00      1.00        38\n",
      "          1       1.00      1.00      1.00       143\n",
      "          2       1.00      1.00      1.00        59\n",
      "          3       1.00      1.00      1.00       303\n",
      "          4       1.00      1.00      1.00        53\n",
      "          5       1.00      1.00      1.00        49\n",
      "          6       1.00      1.00      1.00        79\n",
      "\n",
      "avg / total       1.00      1.00      1.00       724\n",
      "\n",
      "Eout\n",
      "             precision    recall  f1-score   support\n",
      "\n",
      "          0       1.00      0.62      0.76        13\n",
      "          1       0.95      0.93      0.94        40\n",
      "          2       0.95      0.69      0.80        26\n",
      "          3       0.81      0.96      0.88        92\n",
      "          4       0.79      0.82      0.81        33\n",
      "          5       0.88      0.64      0.74        11\n",
      "          6       0.88      0.85      0.87        27\n",
      "\n",
      "avg / total       0.87      0.86      0.86       242\n",
      "\n",
      "done in 0.007s\n"
     ]
    }
   ],
   "source": [
    "# using neural network (best local result)\n",
    "print(\"Fitting the classifier to the training set for Neural Network\")\n",
    "t0 = time()\n",
    "\n",
    "# Runs with Neural nets.\n",
    "clf = MLPClassifier(solver='lbfgs', alpha=2e-4,\n",
    "                     hidden_layer_sizes=(1000,), random_state=1)\n",
    "clf = clf.fit(X_train_split_pca, y_train_split)\n",
    "print(\"done in %0.3fs\" % (time() - t0))\n",
    "\n",
    "print(\"Ein\")\n",
    "internal_pred = clf.predict(X_train_split_pca)\n",
    "print(classification_report(y_train_split, internal_pred))\n",
    "\n",
    "print(\"Eout\")\n",
    "t0 = time()\n",
    "y_pred = clf.predict(X_test_split_pca)\n",
    "print(classification_report(y_test_split, y_pred))\n",
    "print(\"done in %0.3fs\" % (time() - t0))\n"
   ]
  },
  {
   "cell_type": "code",
   "execution_count": 8,
   "metadata": {
    "collapsed": false
   },
   "outputs": [
    {
     "name": "stdout",
     "output_type": "stream",
     "text": [
      "Fitting the classifier to the training set\n",
      "performing with SVC using OneVsOne Classifier\n",
      "done in 100.900s\n",
      "Best estimator found by grid search:\n",
      "SVC(C=5, cache_size=200, class_weight='balanced', coef0=0.0,\n",
      "  decision_function_shape=None, degree=3, gamma=0.001, kernel='rbf',\n",
      "  max_iter=-1, probability=False, random_state=None, shrinking=True,\n",
      "  tol=0.001, verbose=False)\n",
      "Ein\n",
      "             precision    recall  f1-score   support\n",
      "\n",
      "          0       0.95      1.00      0.97        38\n",
      "          1       0.96      0.99      0.98       143\n",
      "          2       0.97      1.00      0.98        59\n",
      "          3       1.00      0.96      0.98       303\n",
      "          4       1.00      1.00      1.00        53\n",
      "          5       1.00      1.00      1.00        49\n",
      "          6       0.98      1.00      0.99        79\n",
      "\n",
      "avg / total       0.98      0.98      0.98       724\n",
      "\n",
      "Eout\n",
      "             precision    recall  f1-score   support\n",
      "\n",
      "          0       1.00      0.62      0.76        13\n",
      "          1       0.80      0.88      0.83        40\n",
      "          2       0.85      0.65      0.74        26\n",
      "          3       0.85      0.89      0.87        92\n",
      "          4       0.75      0.73      0.74        33\n",
      "          5       0.86      0.55      0.67        11\n",
      "          6       0.66      0.85      0.74        27\n",
      "\n",
      "avg / total       0.82      0.81      0.80       242\n",
      "\n",
      "done in 0.028s\n"
     ]
    }
   ],
   "source": [
    "# GridSearchCV with SVC using OneVsRest classifier (first model we tried)\n",
    "print(\"Fitting the classifier to the training set\")\n",
    "print(\"performing with SVC using OneVsOne Classifier\")\n",
    "\n",
    "\n",
    "param_grid = {'C': [1, 3, 5, 1e1, 5e1, 1e2, 1e3],\n",
    "              'gamma': [0.0001, 0.0005, 0.001, 0.005, 0.01, 0.1], }\n",
    "\n",
    "clf = GridSearchCV(estimator=SVC(kernel='rbf', class_weight='balanced'), param_grid=param_grid, cv=10)\n",
    "clf = clf.fit(X_train_split_pca, y_train_split)\n",
    "print(\"done in %0.3fs\" % (time() - t0))\n",
    "print(\"Best estimator found by grid search:\")\n",
    "print(clf.best_estimator_)\n",
    "\n",
    "print(\"Ein\")\n",
    "internal_pred = clf.predict(X_train_split_pca)\n",
    "print(classification_report(y_train_split, internal_pred))\n",
    "\n",
    "print(\"Eout\")\n",
    "t0 = time()\n",
    "y_pred = clf.predict(X_test_split_pca)\n",
    "print(classification_report(y_test_split, y_pred))\n",
    "print(\"done in %0.3fs\" % (time() - t0))\n"
   ]
  },
  {
   "cell_type": "code",
   "execution_count": 9,
   "metadata": {
    "collapsed": false
   },
   "outputs": [
    {
     "name": "stdout",
     "output_type": "stream",
     "text": [
      "Fitting the classifier to the training set\n",
      "Performing with Adaboost using DecisionTree Classifier\n",
      "Ein\n",
      "             precision    recall  f1-score   support\n",
      "\n",
      "          0       1.00      1.00      1.00        38\n",
      "          1       1.00      1.00      1.00       143\n",
      "          2       1.00      1.00      1.00        59\n",
      "          3       1.00      1.00      1.00       303\n",
      "          4       1.00      1.00      1.00        53\n",
      "          5       1.00      1.00      1.00        49\n",
      "          6       1.00      1.00      1.00        79\n",
      "\n",
      "avg / total       1.00      1.00      1.00       724\n",
      "\n",
      "Eout\n",
      "             precision    recall  f1-score   support\n",
      "\n",
      "          0       0.50      0.23      0.32        13\n",
      "          1       0.22      0.28      0.24        40\n",
      "          2       0.40      0.31      0.35        26\n",
      "          3       0.47      0.54      0.51        92\n",
      "          4       0.50      0.27      0.35        33\n",
      "          5       0.21      0.27      0.24        11\n",
      "          6       0.21      0.22      0.22        27\n",
      "\n",
      "avg / total       0.39      0.37      0.37       242\n",
      "\n",
      "done in 0.002s\n"
     ]
    }
   ],
   "source": [
    "### DecisionTree with Adaboost\n",
    "print(\"Fitting the classifier to the training set\")\n",
    "t0 = time()\n",
    "\n",
    "print(\"Performing with Adaboost using DecisionTree Classifier\")\n",
    "clf = AdaBoostClassifier(DecisionTreeClassifier(class_weight='balanced'), n_estimators=300)\n",
    "clf = clf.fit(X_train_split_pca, y_train_split)\n",
    "\n",
    "print(\"Ein\")\n",
    "internal_pred = clf.predict(X_train_split_pca)\n",
    "print(classification_report(y_train_split, internal_pred))\n",
    "\n",
    "print(\"Eout\")\n",
    "t0 = time()\n",
    "y_pred = clf.predict(X_test_split_pca)\n",
    "print(classification_report(y_test_split, y_pred))\n",
    "print(\"done in %0.3fs\" % (time() - t0))\n"
   ]
  },
  {
   "cell_type": "code",
   "execution_count": 10,
   "metadata": {
    "collapsed": false
   },
   "outputs": [
    {
     "name": "stdout",
     "output_type": "stream",
     "text": [
      "Fitting the classifier to the training set\n",
      "Performing with Adaboost using SVC\n",
      "Ein\n",
      "             precision    recall  f1-score   support\n",
      "\n",
      "          0       0.95      1.00      0.97        38\n",
      "          1       0.82      0.97      0.89       143\n",
      "          2       0.92      0.98      0.95        59\n",
      "          3       0.99      0.90      0.94       303\n",
      "          4       0.96      0.98      0.97        53\n",
      "          5       0.96      1.00      0.98        49\n",
      "          6       1.00      0.91      0.95        79\n",
      "\n",
      "avg / total       0.95      0.94      0.94       724\n",
      "\n",
      "Eout\n",
      "             precision    recall  f1-score   support\n",
      "\n",
      "          0       0.90      0.69      0.78        13\n",
      "          1       0.72      0.85      0.78        40\n",
      "          2       0.85      0.65      0.74        26\n",
      "          3       0.81      0.83      0.82        92\n",
      "          4       0.76      0.76      0.76        33\n",
      "          5       0.62      0.73      0.67        11\n",
      "          6       0.84      0.78      0.81        27\n",
      "\n",
      "avg / total       0.79      0.79      0.79       242\n",
      "\n",
      "done in 8.085s\n"
     ]
    }
   ],
   "source": [
    "# Linear SVC with Adaboost\n",
    "print(\"Fitting the classifier to the training set\")\n",
    "t0 = time()\n",
    "\n",
    "print(\"Performing with Adaboost using SVC\")\n",
    "clf = AdaBoostClassifier(SVC(kernel='linear', class_weight='balanced', C=1, gamma=0.005, probability=True), n_estimators=300, algorithm='SAMME')\n",
    "clf = clf.fit(X_train_split_pca, y_train_split)\n",
    "\n",
    "print(\"Ein\")\n",
    "internal_pred = clf.predict(X_train_split_pca)\n",
    "print(classification_report(y_train_split, internal_pred))\n",
    "\n",
    "print(\"Eout\")\n",
    "t0 = time()\n",
    "y_pred = clf.predict(X_test_split_pca)\n",
    "print(classification_report(y_test_split, y_pred))\n",
    "print(\"done in %0.3fs\" % (time() - t0))\n"
   ]
  },
  {
   "cell_type": "code",
   "execution_count": 13,
   "metadata": {
    "collapsed": false
   },
   "outputs": [
    {
     "name": "stdout",
     "output_type": "stream",
     "text": [
      "Fitting the classifier to the training set\n",
      "Performing with GradientBoosting\n",
      "Ein\n",
      "             precision    recall  f1-score   support\n",
      "\n",
      "          0       1.00      1.00      1.00        38\n",
      "          1       1.00      1.00      1.00       143\n",
      "          2       1.00      1.00      1.00        59\n",
      "          3       1.00      1.00      1.00       303\n",
      "          4       1.00      1.00      1.00        53\n",
      "          5       1.00      1.00      1.00        49\n",
      "          6       1.00      1.00      1.00        79\n",
      "\n",
      "avg / total       1.00      1.00      1.00       724\n",
      "\n",
      "Eout\n",
      "             precision    recall  f1-score   support\n",
      "\n",
      "          0       1.00      0.08      0.14        13\n",
      "          1       0.74      0.80      0.77        40\n",
      "          2       0.54      0.27      0.36        26\n",
      "          3       0.58      0.96      0.72        92\n",
      "          4       0.80      0.24      0.37        33\n",
      "          5       0.67      0.36      0.47        11\n",
      "          6       0.50      0.30      0.37        27\n",
      "\n",
      "avg / total       0.65      0.61      0.56       242\n",
      "\n",
      "done in 0.005s\n"
     ]
    }
   ],
   "source": [
    "# Gradient Boosting\n",
    "print(\"Fitting the classifier to the training set\")\n",
    "t0 = time()\n",
    "\n",
    "print(\"Performing with GradientBoosting\")\n",
    "clf = GradientBoostingClassifier(n_estimators=150)\n",
    "clf = clf.fit(X_train_split_pca, y_train_split)\n",
    "\n",
    "print(\"Ein\")\n",
    "internal_pred = clf.predict(X_train_split_pca)\n",
    "print(classification_report(y_train_split, internal_pred))\n",
    "\n",
    "print(\"Eout\")\n",
    "t0 = time()\n",
    "y_pred = clf.predict(X_test_split_pca)\n",
    "print(classification_report(y_test_split, y_pred))\n",
    "print(\"done in %0.3fs\" % (time() - t0))"
   ]
  },
  {
   "cell_type": "code",
   "execution_count": 12,
   "metadata": {
    "collapsed": false
   },
   "outputs": [
    {
     "name": "stdout",
     "output_type": "stream",
     "text": [
      "training with the whole dataset on best model\n",
      "Extracting the top 150 eigenfaces from 724 faces\n",
      "done in 0.243s\n",
      "Projecting the input data on the eigenfaces orthonormal basis\n",
      "done in 0.020s\n",
      "Fitting the classifier to the training set\n",
      "performing with SVC using OneVsRest Classifier\n",
      "Ein\n",
      "             precision    recall  f1-score   support\n",
      "\n",
      "          0       1.00      1.00      1.00        51\n",
      "          1       1.00      1.00      1.00       183\n",
      "          2       1.00      1.00      1.00        85\n",
      "          3       1.00      1.00      1.00       395\n",
      "          4       1.00      1.00      1.00        86\n",
      "          5       1.00      1.00      1.00        60\n",
      "          6       1.00      1.00      1.00       106\n",
      "\n",
      "avg / total       1.00      1.00      1.00       966\n",
      "\n",
      "Eout\n",
      "data saved in testResult.csv\n",
      "done in 473.694s\n"
     ]
    }
   ],
   "source": [
    "# Model chosen for submission on kaggle\n",
    "print(\"training with the whole dataset on best model\")\n",
    "# getting eigenfaces from input data\n",
    "n_components = 150\n",
    "h = 50\n",
    "w = 37\n",
    "print(\"Extracting the top %d eigenfaces from %d faces\"\n",
    "      % (n_components, X_train_split.shape[0]))\n",
    "t0 = time()\n",
    "pca = PCA(n_components=n_components, svd_solver='randomized',\n",
    "          whiten=True).fit(X_train)\n",
    "print(\"done in %0.3fs\" % (time() - t0))\n",
    "\n",
    "eigenfaces = pca.components_.reshape((n_components, h, w))\n",
    "print(\"Projecting the input data on the eigenfaces orthonormal basis\")\n",
    "\n",
    "t0 = time()\n",
    "X_train_pca = pca.transform(X_train)\n",
    "X_test_pca = pca.transform(X_test)\n",
    "print(\"done in %0.3fs\" % (time() - t0))\n",
    "\n",
    "print(\"Fitting the classifier to the training set\")\n",
    "print(\"performing with SVC using OneVsRest Classifier\")\n",
    "\n",
    "model_to_set = OneVsRestClassifier(SVC(kernel=\"rbf\"))\n",
    "parameters = {\n",
    "    \"estimator__C\": [1, 3, 5, 1e1, 5e1, 1e2, 1e3],\n",
    "    \"estimator__kernel\": [\"rbf\"],\n",
    "    \"estimator__gamma\":[0.0001, 0.0005, 0.001, 0.005, 0.01, 0.1]\n",
    "}\n",
    "\n",
    "clf = GridSearchCV(model_to_set, param_grid=parameters, cv=10)\n",
    "clf = clf.fit(X_train_pca, y_train)\n",
    "\n",
    "print(\"Ein\")\n",
    "internal_pred = clf.predict(X_train_pca)\n",
    "print(classification_report(y_train, internal_pred))\n",
    "\n",
    "print(\"Eout\")\n",
    "y_pred = clf.predict(X_test_pca)\n",
    "saveTestResults(y_pred)\n",
    "print(\"data saved in testResult.csv\")\n",
    "print(\"done in %0.3fs\" % (time() - t0))\n",
    "\n"
   ]
  }
 ],
 "metadata": {
  "kernelspec": {
   "display_name": "Python 3",
   "language": "python",
   "name": "python3"
  },
  "language_info": {
   "codemirror_mode": {
    "name": "ipython",
    "version": 3
   },
   "file_extension": ".py",
   "mimetype": "text/x-python",
   "name": "python",
   "nbconvert_exporter": "python",
   "pygments_lexer": "ipython3",
   "version": "3.4.3"
  }
 },
 "nbformat": 4,
 "nbformat_minor": 0
}
