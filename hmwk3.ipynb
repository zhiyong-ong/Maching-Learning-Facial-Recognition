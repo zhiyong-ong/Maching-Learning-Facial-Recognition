{
 "cells": [
  {
   "cell_type": "code",
   "execution_count": 81,
   "metadata": {
    "collapsed": false
   },
   "outputs": [],
   "source": [
    "from time import time\n",
    "import logging\n",
    "import matplotlib.pyplot as plt\n",
    "import numpy as np\n",
    "from sklearn.decomposition import PCA\n",
    "from sklearn.lda import LDA\n",
    "from sklearn.svm import SVC, LinearSVC\n",
    "from sklearn.model_selection import train_test_split\n",
    "from sklearn.model_selection import GridSearchCV\n",
    "from sklearn.metrics import classification_report\n",
    "from sklearn.metrics import confusion_matrix\n",
    "\n",
    "from sklearn.model_selection import cross_val_score\n",
    "from sklearn.ensemble import AdaBoostClassifier\n",
    "from sklearn.multiclass import OneVsOneClassifier\n",
    "from sklearn.tree import DecisionTreeClassifier\n",
    "from sklearn.neural_network import MLPClassifier\n",
    "\n",
    "%matplotlib inline"
   ]
  },
  {
   "cell_type": "code",
   "execution_count": 3,
   "metadata": {
    "collapsed": false
   },
   "outputs": [],
   "source": [
    "#  Images are single-channel with pixel intensity represented by a float value from 0 to 255,\n",
    "#  the single-channel intensity is the mean value of the original RGB channel intensities.\n",
    "\n",
    "# X_train.npy: training data numpy array.\n",
    "# Each row in the array corresponds to an image unrolled to a vector (50 x 37 = 1850 dimension)\n",
    "X_train = np.load('X_train.npy')\n",
    "# y_train.npy: labels (0-6) of each data corresponding to the image in the same row in X_train.npy\n",
    "y_train = np.load('y_train.npy')\n",
    "\n",
    "# Test data without label\n",
    "X_test = np.load('X_test.npy')"
   ]
  },
  {
   "cell_type": "code",
   "execution_count": 4,
   "metadata": {
    "collapsed": true
   },
   "outputs": [],
   "source": [
    "# Generate testResults.csv\n",
    "# Run this with y_pred\n",
    "\n",
    "def saveTestResults(y_pred, filename='testResults.csv'):\n",
    "    fo = open(filename, 'w')\n",
    "    fo.write(\"ImageId,PredictedClass\\n\")\n",
    "    for i in range(len(y_pred)):\n",
    "        if i == len(y_pred) - 1:\n",
    "            fo.write(str(i) + \",\" + str(y_pred[i]))\n",
    "        else:\n",
    "            fo.write(str(i) + \",\" + str(y_pred[i]) + \"\\n\")\n",
    "    fo.close()"
   ]
  },
  {
   "cell_type": "code",
   "execution_count": 180,
   "metadata": {
    "collapsed": false
   },
   "outputs": [
    {
     "name": "stdout",
     "output_type": "stream",
     "text": [
      "Total dataset size:\n",
      "n_samples: 966\n",
      "n_features: 1850\n",
      "n_classes: 7\n",
      "Extracting the top 150 eigenfaces from 966 faces\n",
      "done in 0.179s\n",
      "PCA captures 95.68 percent of the variance in the dataset\n",
      "done in 0.020s\n",
      "(966, 150)\n"
     ]
    }
   ],
   "source": [
    "# Reduce dimensionality with PCA (i.e. eigenfaces)\n",
    "all_data = []\n",
    "for data in y_train:\n",
    "    if data not in all_data:\n",
    "        all_data.append(data)\n",
    "    else:\n",
    "        continue\n",
    "\n",
    "\n",
    "# Display progress logs on stdout\n",
    "logging.basicConfig(level=logging.INFO, format='%(asctime)s %(message)s')\n",
    "\n",
    "n_classes = len(all_data)\n",
    "n_samples = len(X_train)\n",
    "n_features = len(X_train[0])\n",
    "\n",
    "print(\"Total dataset size:\")\n",
    "print(\"n_samples: %d\" % n_samples)\n",
    "print(\"n_features: %d\" % n_features)\n",
    "print(\"n_classes: %d\" % n_classes)\n",
    "\n",
    "# For PCA ONLY (eigenfaces)\n",
    "n_components = 150\n",
    "print(\"Extracting the top %d eigenfaces from %d faces\" % (n_components, X_train.shape[0]))\n",
    "t0 = time()\n",
    "pca = PCA(n_components=n_components, svd_solver='randomized', whiten=True).fit(X_train)\n",
    "print(\"done in %0.3fs\" % (time() - t0))\n",
    "\n",
    "# The closer the captured variance is to 100, the better? To increase, increase n_components.\n",
    "print('PCA captures {:.2f} percent of the variance in the dataset'.format(pca.explained_variance_ratio_.sum() * 100))\n",
    "\n",
    "eigenfaces = pca.components_.reshape((n_components, 1, n_features))\n",
    "\n",
    "# Compute LDA of reduced data - Faruq: not working\n",
    "# To try, uncomment the following lines and comment out the PCA code block above\n",
    "# pca_n_components = len(X_train) - n_classes\n",
    "# print(\"Extracting the top %d eigenfaces from %d faces\" % (pca_n_components, X_train.shape[0]))\n",
    "# t0 = time()\n",
    "# pca = PCA(n_components=pca_n_components, svd_solver='randomized', whiten=True).fit(X_train)\n",
    "# print(\"done in %0.3fs\" % (time() - t0))\n",
    "# pca_X_train = pca.transform(X_train)\n",
    "\n",
    "# Faruq: When using scikit LDA not necessary to do initial PCA transform\n",
    "# Simple LDA - Comment the other blocks above and uncomment the line below\n",
    "# pca = lda = LDA().fit(X_train, y_train)\n",
    "\n",
    "# print(\"Projecting the input data on the eigenfaces orthonormal basis\")\n",
    "t0 = time()\n",
    "X_train_pca = pca.transform(X_train)\n",
    "X_test_pca = pca.transform(X_test)\n",
    "\n",
    "print(\"done in %0.3fs\" % (time() - t0))\n",
    "\n",
    "print(X_train_pca.shape)\n",
    "\n",
    "# Split data (75% train, 25% test)\n",
    "X_test_pca_split, ZX_test_pca_split, y_test_pca_split, Zy_test_pca_split = train_test_split(X_train_pca, y_train, test_size=0.25, random_state=42)"
   ]
  },
  {
   "cell_type": "code",
   "execution_count": 181,
   "metadata": {
    "collapsed": false
   },
   "outputs": [
    {
     "name": "stdout",
     "output_type": "stream",
     "text": [
      "Fitting the classifier to the training set\n",
      "done in 160.483s\n",
      "Best estimator found by grid search:\n",
      "SVC(C=5, cache_size=200, class_weight='balanced', coef0=0.0,\n",
      "  decision_function_shape=None, degree=3, gamma=0.001, kernel='rbf',\n",
      "  max_iter=-1, probability=False, random_state=None, shrinking=True,\n",
      "  tol=0.001, verbose=False)\n",
      "Error in\n",
      "             precision    recall  f1-score   support\n",
      "\n",
      "          0       0.78      0.54      0.64        13\n",
      "          1       0.85      0.88      0.86        40\n",
      "          2       0.94      0.62      0.74        26\n",
      "          3       0.79      0.91      0.85        92\n",
      "          4       0.76      0.67      0.71        33\n",
      "          5       0.86      0.55      0.67        11\n",
      "          6       0.70      0.85      0.77        27\n",
      "\n",
      "avg / total       0.81      0.80      0.79       242\n",
      "\n",
      "Predicting people's names on the test set\n",
      "done in 281.501s\n",
      "[3 4 6 1 3 2 2 6 1 3 1 3 3 3 4 0 3 1 3 1 3 0 0 3 3 0 4 1 4 3 2 6 3 2 1 6 3\n",
      " 6 3 6 3 4 3 1 3 3 4 1 3 3 3 3 3 3 4 2 1 3 4 0 6 4 2 3 4 3 1 3 3 3 3 3 3 3\n",
      " 3 1 2 3 3 3 3 3 1 3 6 0 1 1 2 1 0 4 2 3 6 3 3 6 1 3 3 6 3 3 1 4 3 6 2 3 3\n",
      " 3 0 5 3 3 6 5 6 3 2 0 5 3 6 3 3 1 2 4 1 3 3 1 3 3 1 2 3 3 1 6 1 3 3 1 3 2\n",
      " 3 3 3 4 1 1 6 3 4 1 3 3 1 3 3 0 5 4 6 2 3 1 3 2 3 3 1 1 3 3 3 3 3 3 1 4 0\n",
      " 6 1 1 3 5 1 5 3 3 3 3 2 3 1 4 3 3 3 3 3 2 3 3 1 4 3 3 3 6 2 1 3 2 2 3 1 6\n",
      " 2 3 3 6 3 6 3 3 3 3 3 3 3 2 2 6 3 6 3 1 2 3 5 3 3 1 4 5 3 1 0 1 3 1 1 0 3\n",
      " 2 3 3 1 3 3 3 3 1 3 3 3 3 4 3 3 3 6 6 1 1 3 3 3 6 4 3 0 3 3 3 3 1 6 3 6 3\n",
      " 2 1 1 3 4 1 2 3 3 3 4 3 3 1 3 2 3 0 3 0 3 3 3 3 3 1]\n"
     ]
    }
   ],
   "source": [
    "# GridSearchCV with SVC (One-vs-One)\n",
    "print(\"Fitting the classifier to the training set\")\n",
    "t0 = time()\n",
    "\n",
    "param_grid = {'C': [1, 3, 5, 1e1, 5e1, 1e2, 1e3],\n",
    "              'gamma': [0.0001, 0.0005, 0.001, 0.005, 0.01, 0.1, 1], }\n",
    "clf = GridSearchCV(estimator=SVC(kernel='rbf', class_weight='balanced'), param_grid=param_grid, cv=10)\n",
    "clf = clf.fit(X_test_pca_split, y_test_pca_split)\n",
    "print(\"done in %0.3fs\" % (time() - t0))\n",
    "print(\"Best estimator found by grid search:\")\n",
    "print(clf.best_estimator_)\n",
    "\n",
    "print(\"Error in\")\n",
    "internal_pred = clf.predict(ZX_test_pca_split)\n",
    "print(classification_report(Zy_test_pca_split, internal_pred))\n",
    "\n",
    "print(\"Predicting people's names on the test set\")\n",
    "t0 = time()\n",
    "clf = clf.fit(X_train_pca, y_train)\n",
    "y_pred = clf.predict(X_test_pca)\n",
    "print(\"done in %0.3fs\" % (time() - t0))\n",
    "\n",
    "print(y_pred)\n",
    "saveTestResults(y_pred, 'testResults_SVCwithBestEstimator_OneVsOne.csv')"
   ]
  },
  {
   "cell_type": "code",
   "execution_count": null,
   "metadata": {
    "collapsed": false
   },
   "outputs": [],
   "source": [
    "# GridSearchCV with SVC (One-vs-Rest)\n",
    "print(\"Fitting the classifier to the training set\")\n",
    "t0 = time()\n",
    "\n",
    "param_grid = {'C': [1, 3, 5, 1e1, 5e1, 1e2, 1e3],\n",
    "              'gamma': [0.0001, 0.0005, 0.001, 0.005, 0.01, 0.1, 1], }\n",
    "clf = GridSearchCV(estimator=SVC(kernel='rbf', class_weight='balanced', decision_function_shape='ovr'), param_grid=param_grid, cv=10)\n",
    "clf = clf.fit(X_test_pca_split, y_test_pca_split)\n",
    "print(\"done in %0.3fs\" % (time() - t0))\n",
    "print(\"Best estimator found by grid search:\")\n",
    "print(clf.best_estimator_)\n",
    "\n",
    "print(\"Error in\")\n",
    "internal_pred = clf.predict(ZX_test_pca_split)\n",
    "print(classification_report(Zy_test_pca_split, internal_pred))\n",
    "\n",
    "print(\"Predicting people's names on the test set\")\n",
    "t0 = time()\n",
    "clf = clf.fit(X_train_pca, y_train)\n",
    "y_pred = clf.predict(X_test_pca)\n",
    "print(\"done in %0.3fs\" % (time() - t0))\n",
    "\n",
    "print(y_pred)\n",
    "saveTestResults(y_pred, 'testResults_SVCwithBestEstimator_OneVsRest.csv')"
   ]
  },
  {
   "cell_type": "code",
   "execution_count": 178,
   "metadata": {
    "collapsed": false
   },
   "outputs": [
    {
     "name": "stdout",
     "output_type": "stream",
     "text": [
      "Fitting the classifier to the training set\n",
      "MLPClassifier(activation='relu', alpha=1e-05, batch_size='auto', beta_1=0.9,\n",
      "       beta_2=0.999, early_stopping=True, epsilon=1e-08,\n",
      "       hidden_layer_sizes=1000, learning_rate='constant',\n",
      "       learning_rate_init=0.001, max_iter=2000, momentum=0.9,\n",
      "       nesterovs_momentum=True, power_t=0.5, random_state=1, shuffle=True,\n",
      "       solver='lbfgs', tol=0.0001, validation_fraction=0.1, verbose=False,\n",
      "       warm_start=False)\n",
      "done in 1.224s\n",
      "Error in\n",
      "             precision    recall  f1-score   support\n",
      "\n",
      "          0       0.83      0.38      0.53        13\n",
      "          1       0.67      0.78      0.72        40\n",
      "          2       0.90      0.35      0.50        26\n",
      "          3       0.70      0.97      0.81        92\n",
      "          4       0.62      0.39      0.48        33\n",
      "          5       1.00      0.55      0.71        11\n",
      "          6       0.68      0.63      0.65        27\n",
      "\n",
      "avg / total       0.72      0.70      0.68       242\n",
      "\n",
      "Predicting people's names on the test set\n",
      "done in 0.005s\n",
      "[3 5 6 1 3 2 6 3 6 1 1 3 3 3 3 0 3 1 3 3 3 0 3 3 3 3 3 1 6 3 3 3 3 1 6 3 3\n",
      " 6 3 6 3 6 3 1 3 3 4 3 3 3 3 3 3 3 4 3 1 3 4 0 6 4 1 1 4 3 1 3 3 3 6 3 3 1\n",
      " 3 1 2 3 3 3 3 3 3 3 6 3 1 1 2 1 0 4 2 3 6 3 3 6 3 3 3 6 3 3 4 6 3 6 1 4 3\n",
      " 3 0 1 3 3 6 5 1 3 2 1 6 3 6 3 3 1 2 4 1 4 6 1 3 3 1 2 3 3 1 6 1 3 3 1 3 2\n",
      " 3 3 3 4 1 1 6 3 3 1 3 3 1 3 3 0 5 3 6 2 3 3 3 2 4 3 3 1 3 3 3 3 3 3 1 6 6\n",
      " 6 1 1 3 5 1 6 6 3 3 3 2 3 1 5 3 2 3 3 3 2 3 6 1 3 1 3 3 6 2 1 3 2 3 3 1 6\n",
      " 2 3 1 6 3 6 3 6 3 3 3 4 3 3 6 6 3 6 3 4 2 1 3 3 3 1 6 5 3 1 0 1 3 1 1 0 6\n",
      " 2 3 3 3 3 3 3 3 1 3 6 6 3 4 3 3 3 3 6 1 1 3 3 3 6 4 3 3 3 3 3 3 1 3 3 6 3\n",
      " 6 1 1 0 4 1 1 3 1 3 4 3 3 1 3 1 3 0 3 1 3 3 3 3 3 1]\n"
     ]
    }
   ],
   "source": [
    "# MLP / Neural Network\n",
    "print(\"Fitting the classifier to the training set\")\n",
    "t0 = time()\n",
    "\n",
    "clf = MLPClassifier(solver='lbfgs', alpha=0.00001, hidden_layer_sizes=(1000), max_iter=2000, early_stopping=True, random_state=1)\n",
    "clf = clf.fit(X_test_pca_split, y_test_pca_split)\n",
    "print(clf)\n",
    "print(\"done in %0.3fs\" % (time() - t0))\n",
    "\n",
    "print(\"Error in\")\n",
    "internal_pred = clf.predict(ZX_test_pca_split)\n",
    "print(classification_report(Zy_test_pca_split, internal_pred))\n",
    "\n",
    "print(\"Predicting people's names on the test set\")\n",
    "t0 = time()\n",
    "# clf = clf.fit(X_train_pca, y_train)\n",
    "y_pred = clf.predict(X_test_pca)\n",
    "print(\"done in %0.3fs\" % (time() - t0))\n",
    "\n",
    "print(y_pred)\n",
    "saveTestResults(y_pred, 'testResults_MLP.csv')"
   ]
  },
  {
   "cell_type": "code",
   "execution_count": 120,
   "metadata": {
    "collapsed": false
   },
   "outputs": [
    {
     "name": "stdout",
     "output_type": "stream",
     "text": [
      "Fitting the classifier to the training set\n",
      "Performing with Adaboost\n",
      "Error in\n",
      "             precision    recall  f1-score   support\n",
      "\n",
      "          0       0.14      0.15      0.15        13\n",
      "          1       0.33      0.42      0.37        40\n",
      "          2       0.39      0.27      0.32        26\n",
      "          3       0.44      0.48      0.46        92\n",
      "          4       0.42      0.15      0.22        33\n",
      "          5       0.12      0.27      0.17        11\n",
      "          6       0.21      0.19      0.20        27\n",
      "\n",
      "avg / total       0.36      0.34      0.34       242\n",
      "\n",
      "Predicting people's names on the test set\n",
      "done in 0.355s\n",
      "[3 6 3 6 3 2 0 3 3 4 3 1 2 6 3 2 1 3 3 3 3 1 3 5 3 3 3 6 3 3 3 1 1 3 0 3 6\n",
      " 3 3 3 2 4 1 3 5 1 2 3 3 4 1 5 4 6 6 1 6 3 2 3 4 3 3 3 2 3 1 3 3 1 3 1 3 4\n",
      " 3 3 2 1 1 6 1 3 1 6 1 2 3 3 3 3 6 1 3 3 3 2 3 1 0 1 3 3 6 3 1 0 3 6 2 5 3\n",
      " 2 3 5 3 3 1 1 3 4 2 3 4 5 6 2 5 3 3 3 5 1 1 3 0 6 1 3 3 2 6 6 3 3 5 1 3 3\n",
      " 3 1 3 3 3 4 1 3 3 3 3 6 1 3 3 3 3 3 6 1 3 0 5 3 3 3 1 1 4 3 0 1 1 3 1 4 1\n",
      " 6 3 6 1 3 3 3 5 1 3 3 2 3 1 2 1 2 3 5 3 2 2 3 6 4 3 0 3 5 3 1 1 1 2 1 1 6\n",
      " 3 3 6 3 0 5 3 6 3 1 3 6 3 2 2 3 2 1 3 2 2 3 5 1 3 1 6 6 3 3 5 3 3 0 1 3 3\n",
      " 3 4 1 2 1 5 1 2 0 3 4 1 6 3 3 3 3 5 3 1 1 6 1 3 6 1 6 3 0 3 3 5 3 6 3 6 4\n",
      " 0 5 3 6 3 1 1 3 1 3 1 0 1 3 2 2 2 3 3 0 6 3 3 3 3 4]\n"
     ]
    }
   ],
   "source": [
    "### DT with Adaboost\n",
    "print(\"Fitting the classifier to the training set\")\n",
    "t0 = time()\n",
    "\n",
    "print(\"Performing with Adaboost\")\n",
    "clf = AdaBoostClassifier(DecisionTreeClassifier(class_weight='balanced'), n_estimators=300)\n",
    "clf = clf.fit(X_test_pca_split, y_test_pca_split)\n",
    "\n",
    "# scores = cross_val_score(clf, X_train_pca, y_train)\n",
    "# print(\"Mean scores:\", scores.mean())\n",
    "\n",
    "print(\"Error in\")\n",
    "internal_pred = clf.predict(ZX_test_pca_split)\n",
    "print(classification_report(Zy_test_pca_split, internal_pred))\n",
    "\n",
    "print(\"Predicting people's names on the test set\")\n",
    "t0 = time()\n",
    "clf = clf.fit(X_train_pca, y_train)\n",
    "y_pred = clf.predict(X_test_pca)\n",
    "print(\"done in %0.3fs\" % (time() - t0))\n",
    "\n",
    "print(y_pred)\n",
    "saveTestResults(y_pred, 'testResults_DTwithAdaboost.csv')"
   ]
  },
  {
   "cell_type": "code",
   "execution_count": 58,
   "metadata": {
    "collapsed": false
   },
   "outputs": [
    {
     "name": "stdout",
     "output_type": "stream",
     "text": [
      "Fitting the classifier to the training set\n",
      "Performing with Adaboost\n",
      "Error in\n",
      "             precision    recall  f1-score   support\n",
      "\n",
      "          0       1.00      1.00      1.00        13\n",
      "          1       1.00      1.00      1.00        40\n",
      "          2       1.00      1.00      1.00        26\n",
      "          3       1.00      1.00      1.00        92\n",
      "          4       1.00      1.00      1.00        33\n",
      "          5       1.00      1.00      1.00        11\n",
      "          6       1.00      1.00      1.00        27\n",
      "\n",
      "avg / total       1.00      1.00      1.00       242\n",
      "\n",
      "Predicting people's names on the test set\n",
      "done in 0.017s\n",
      "[5 5 5 1 3 2 6 3 6 1 1 2 3 3 5 1 5 1 3 1 3 0 3 2 3 0 4 1 4 1 6 6 3 2 6 3 3\n",
      " 6 3 6 3 6 3 1 3 3 1 3 3 3 3 6 3 6 4 3 1 0 4 0 6 4 3 0 4 3 3 3 3 3 3 3 6 6\n",
      " 3 4 2 3 3 3 3 3 6 3 2 6 0 1 2 1 0 4 1 3 1 3 3 6 1 3 3 6 3 3 5 4 2 2 2 3 3\n",
      " 3 0 5 3 2 6 5 3 2 2 0 5 3 6 3 5 1 2 3 4 4 3 1 2 1 6 2 3 3 1 6 0 5 5 5 6 2\n",
      " 3 3 3 4 2 3 6 3 6 0 3 5 1 3 4 5 5 4 6 5 3 0 3 3 4 3 5 1 5 3 3 3 0 3 1 4 1\n",
      " 6 1 1 3 5 1 5 3 2 3 3 2 3 2 4 2 2 6 3 3 2 3 6 1 4 0 3 6 6 2 0 3 2 2 3 1 6\n",
      " 2 3 4 6 1 6 4 6 3 3 3 4 3 2 2 6 5 6 3 5 2 1 3 3 3 1 6 5 3 1 0 1 0 1 1 0 6\n",
      " 2 3 6 1 3 3 3 3 1 3 6 6 3 4 3 3 3 6 1 1 0 3 6 3 6 4 3 0 1 3 3 3 1 3 3 1 3\n",
      " 1 5 1 2 3 5 2 3 5 3 4 2 3 1 4 4 3 0 4 0 3 3 3 3 3 1]\n"
     ]
    }
   ],
   "source": [
    "# Linear SVC with Adaboost\n",
    "print(\"Fitting the classifier to the training set\")\n",
    "t0 = time()\n",
    "\n",
    "print(\"Performing with Adaboost\")\n",
    "clf = AdaBoostClassifier(SVC(kernel='linear', class_weight='balanced', C=1, gamma=0.005, probability=True), n_estimators=300, algorithm='SAMME')\n",
    "clf = clf.fit(X_test_pca_split, y_test_pca_split)\n",
    "\n",
    "print(\"Error in\")\n",
    "internal_pred = clf.predict(ZX_test_pca_split)\n",
    "print(classification_report(Zy_test_pca_split, internal_pred))\n",
    "\n",
    "print(\"Predicting people's names on the test set\")\n",
    "t0 = time()\n",
    "clf = clf.fit(X_train_pca, y_train)\n",
    "y_pred = clf.predict(X_test_pca)\n",
    "print(\"done in %0.3fs\" % (time() - t0))\n",
    "\n",
    "print(y_pred)\n",
    "saveTestResults(y_pred, 'testResults_LinearSVCwithAdaboost.csv')"
   ]
  },
  {
   "cell_type": "code",
   "execution_count": 77,
   "metadata": {
    "collapsed": false
   },
   "outputs": [
    {
     "data": {
      "image/png": "[encoded data removed]",
      "text/plain": [
       "<matplotlib.figure.Figure at 0x7f7b5642a0b8>"
      ]
     },
     "metadata": {},
     "output_type": "display_data"
    }
   ],
   "source": [
    "# Util to plot eigenfaces\n",
    "\n",
    "# print(classification_report(y_test, y_pred))\n",
    "# print(confusion_matrix(y_test, y_pred, labels=range(n_classes)))\n",
    "#\n",
    "# plot the result of the prediction on a portion of the test set\n",
    "\n",
    "def plot_gallery(images, titles, h, w, n_row=3, n_col=4):\n",
    "    \"\"\"Helper function to plot a gallery of portraits\"\"\"\n",
    "    plt.figure(figsize=(1.8 * n_col, 2.4 * n_row))\n",
    "    plt.subplots_adjust(bottom=0, left=.01, right=.99, top=.90, hspace=.35)\n",
    "    for i in range(n_row * n_col):\n",
    "        plt.subplot(n_row, n_col, i + 1)\n",
    "        plt.imshow(images[i].reshape((h, w)), cmap=plt.cm.gray)\n",
    "        plt.title(titles[i], size=12)\n",
    "        plt.xticks(())\n",
    "        plt.yticks(())\n",
    "\n",
    "\n",
    "# plot the gallery of the most significative eigenfaces\n",
    "eigenface_titles = [\"eigenface %d\" % i for i in range(eigenfaces.shape[0])]\n",
    "plot_gallery(eigenfaces, eigenface_titles, 1, n_features)\n",
    "\n",
    "plt.show()"
   ]
  },
  {
   "cell_type": "code",
   "execution_count": null,
   "metadata": {
    "collapsed": true
   },
   "outputs": [],
   "source": []
  }
 ],
 "metadata": {
  "anaconda-cloud": {},
  "kernelspec": {
   "display_name": "Python [default]",
   "language": "python",
   "name": "python3"
  },
  "language_info": {
   "codemirror_mode": {
    "name": "ipython",
    "version": 3
   },
   "file_extension": ".py",
   "mimetype": "text/x-python",
   "name": "python",
   "nbconvert_exporter": "python",
   "pygments_lexer": "ipython3",
   "version": "3.5.2"
  }
 },
 "nbformat": 4,
 "nbformat_minor": 1
}
