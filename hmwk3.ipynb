{
 "cells": [
  {
   "cell_type": "code",
   "execution_count": 42,
   "metadata": {
    "collapsed": false
   },
   "outputs": [],
   "source": [
    "from time import time\n",
    "import logging\n",
    "import matplotlib.pyplot as plt\n",
    "import numpy as np\n",
    "from sklearn.decomposition import PCA\n",
    "from sklearn.svm import SVC\n",
    "from sklearn.svm import LinearSVC\n",
    "from sklearn.model_selection import train_test_split\n",
    "from sklearn.model_selection import GridSearchCV\n",
    "from sklearn.metrics import classification_report\n",
    "from sklearn.metrics import confusion_matrix\n",
    "\n",
    "from sklearn.model_selection import cross_val_score\n",
    "from sklearn.ensemble import AdaBoostClassifier\n",
    "from sklearn.multiclass import OneVsOneClassifier\n",
    "from sklearn.tree import DecisionTreeClassifier"
   ]
  },
  {
   "cell_type": "code",
   "execution_count": 3,
   "metadata": {
    "collapsed": false
   },
   "outputs": [],
   "source": [
    "#  Images are single-channel with pixel intensity represented by a float value from 0 to 255,\n",
    "#  the single-channel intensity is the mean value of the original RGB channel intensities.\n",
    "\n",
    "# X_train.npy: training data numpy array.\n",
    "# Each row in the array corresponds to an image unrolled to a vector (50 x 37 = 1850 dimension)\n",
    "X_train = np.load('X_train.npy')\n",
    "# y_train.npy: labels (0-6) of each data corresponding to the image in the same row in X_train.npy\n",
    "y_train = np.load('y_train.npy')\n",
    "\n",
    "# Test data without label\n",
    "X_test = np.load('X_test.npy')"
   ]
  },
  {
   "cell_type": "code",
   "execution_count": 50,
   "metadata": {
    "collapsed": true
   },
   "outputs": [],
   "source": [
    "# Generate testResults.csv\n",
    "# Run this with y_pred\n",
    "\n",
    "def saveTestResults(y_pred, filename='testResults.csv'):\n",
    "    fo = open(filename, 'w')\n",
    "    fo.write(\"ImageId,PredictedClass\\n\")\n",
    "    for i in range(len(y_pred)):\n",
    "        if i == len(y_pred) - 1:\n",
    "            fo.write(str(i) + \",\" + str(y_pred[i]))\n",
    "        else:\n",
    "            fo.write(str(i) + \",\" + str(y_pred[i]) + \"\\n\")\n",
    "    fo.close()"
   ]
  },
  {
   "cell_type": "code",
   "execution_count": 35,
   "metadata": {
    "collapsed": false
   },
   "outputs": [
    {
     "name": "stdout",
     "output_type": "stream",
     "text": [
      "Total dataset size:\n",
      "n_samples: 966\n",
      "n_features: 1850\n",
      "n_classes: 7\n",
      "Extracting the top 150 eigenfaces from 966 faces\n",
      "done in 0.182s\n",
      "Projecting the input data on the eigenfaces orthonormal basis\n",
      "done in 0.023s\n",
      "(966, 150)\n"
     ]
    }
   ],
   "source": [
    "# Reduce dimensionality with PCA (i.e. eigenfaces)\n",
    "all_data = []\n",
    "for i in range(len(y_train)):\n",
    "    is_same = False\n",
    "    for j in range(len(all_data)):\n",
    "        if y_train[i] == all_data[j]:\n",
    "            is_same = True\n",
    "            break\n",
    "    if is_same != True:\n",
    "        all_data.append(y_train[i])\n",
    "\n",
    "\n",
    "# Display progress logs on stdout\n",
    "logging.basicConfig(level=logging.INFO, format='%(asctime)s %(message)s')\n",
    "\n",
    "n_classes = len(all_data)\n",
    "n_samples = len(X_train)\n",
    "n_features = len(X_train[0])\n",
    "\n",
    "print(\"Total dataset size:\")\n",
    "print(\"n_samples: %d\" % n_samples)\n",
    "print(\"n_features: %d\" % n_features)\n",
    "print(\"n_classes: %d\" % n_classes)\n",
    "\n",
    "n_components = 150\n",
    "h = 1\n",
    "w = 1850\n",
    "print(\"Extracting the top %d eigenfaces from %d faces\"\n",
    "      % (n_components, X_train.shape[0]))\n",
    "t0 = time()\n",
    "pca = PCA(n_components=n_components, svd_solver='randomized',\n",
    "          whiten=True).fit(X_train)\n",
    "print(\"done in %0.3fs\" % (time() - t0))\n",
    "\n",
    "eigenfaces = pca.components_.reshape((n_components, h, w))\n",
    "print(\"Projecting the input data on the eigenfaces orthonormal basis\")\n",
    "\n",
    "t0 = time()\n",
    "X_train_pca = pca.transform(X_train)\n",
    "X_test_pca = pca.transform(X_test)\n",
    "\n",
    "print(\"done in %0.3fs\" % (time() - t0))\n",
    "\n",
    "print(X_train_pca.shape)\n",
    "\n",
    "# Split data (75% train, 25% test)\n",
    "X_test_pca_split, ZX_test_pca_split, y_test_pca_split, Zy_test_pca_split = train_test_split(X_train_pca, y_train, test_size=0.25, random_state=42)"
   ]
  },
  {
   "cell_type": "code",
   "execution_count": 51,
   "metadata": {
    "collapsed": false
   },
   "outputs": [
    {
     "name": "stdout",
     "output_type": "stream",
     "text": [
      "Fitting the classifier to the training set\n",
      "done in 230.129s\n",
      "Best estimator found by grid search:\n",
      "SVC(C=1, cache_size=200, class_weight='balanced', coef0=0.0,\n",
      "  decision_function_shape=None, degree=3, gamma=0.005, kernel='rbf',\n",
      "  max_iter=-1, probability=False, random_state=None, shrinking=True,\n",
      "  tol=0.001, verbose=False)\n",
      "Error in\n",
      "             precision    recall  f1-score   support\n",
      "\n",
      "          0       1.00      1.00      1.00        13\n",
      "          1       1.00      1.00      1.00        40\n",
      "          2       1.00      1.00      1.00        26\n",
      "          3       1.00      1.00      1.00        92\n",
      "          4       1.00      1.00      1.00        33\n",
      "          5       1.00      1.00      1.00        11\n",
      "          6       1.00      1.00      1.00        27\n",
      "\n",
      "avg / total       1.00      1.00      1.00       242\n",
      "\n",
      "Predicting people's names on the test set\n",
      "done in 0.060s\n",
      "[3 4 6 1 3 2 2 6 1 1 1 3 3 3 4 0 1 1 3 1 3 0 0 2 3 0 4 1 4 3 2 6 3 1 1 6 3\n",
      " 6 3 6 3 6 3 1 3 3 4 2 3 3 3 3 3 3 4 2 1 3 4 0 6 4 2 3 4 3 1 3 3 3 3 3 3 1\n",
      " 3 1 2 3 3 3 3 3 4 3 6 0 1 1 2 1 0 4 2 3 6 3 3 6 1 3 3 6 3 3 1 4 3 6 2 4 3\n",
      " 3 0 5 3 3 6 5 6 3 2 0 4 3 6 3 3 1 2 4 1 3 3 1 1 3 1 2 3 3 1 6 1 3 3 1 3 2\n",
      " 3 3 3 4 1 1 6 3 4 1 3 3 1 4 3 0 5 4 6 2 3 1 3 1 2 3 1 1 3 3 3 3 3 3 1 4 0\n",
      " 6 1 1 3 5 1 5 6 3 3 3 2 3 1 4 3 3 3 3 3 2 3 6 1 4 4 3 6 6 2 1 3 2 2 3 1 6\n",
      " 2 3 3 6 3 6 3 1 3 3 3 3 3 2 2 6 3 6 3 6 2 3 5 3 3 1 6 5 3 1 0 1 1 1 1 0 1\n",
      " 2 3 6 3 3 3 3 3 1 3 1 6 3 4 3 3 3 6 6 1 1 3 3 3 6 4 3 0 3 3 3 3 1 6 3 6 3\n",
      " 2 4 1 3 4 1 2 3 3 3 4 1 3 1 3 2 1 0 3 0 3 3 3 3 3 1]\n"
     ]
    }
   ],
   "source": [
    "# GridSearchCV with SVC\n",
    "print(\"Fitting the classifier to the training set\")\n",
    "t0 = time()\n",
    "\n",
    "# Runs 1 vs 1 NOT 1 vs REST.\n",
    "param_grid = {'C': [1, 3, 5, 1e1, 5e1, 1e2, 1e3],\n",
    "              'gamma': [0.0001, 0.0005, 0.001, 0.005, 0.01, 0.1], }\n",
    "clf = GridSearchCV(estimator=SVC(kernel='rbf', class_weight='balanced'), param_grid=param_grid, cv=10)\n",
    "clf = clf.fit(X_train_pca, y_train)\n",
    "print(\"done in %0.3fs\" % (time() - t0))\n",
    "print(\"Best estimator found by grid search:\")\n",
    "print(clf.best_estimator_)\n",
    "\n",
    "print(\"Error in\")\n",
    "internal_pred = clf.predict(ZX_test_pca_split)\n",
    "print(classification_report(Zy_test_pca_split, internal_pred))\n",
    "\n",
    "print(\"Predicting people's names on the test set\")\n",
    "t0 = time()\n",
    "y_pred = clf.predict(X_test_pca)\n",
    "print(\"done in %0.3fs\" % (time() - t0))\n",
    "\n",
    "print(y_pred)\n",
    "saveTestResults(y_pred, 'testResults_SVCwithBestEstimator.csv')"
   ]
  },
  {
   "cell_type": "code",
   "execution_count": 52,
   "metadata": {
    "collapsed": false
   },
   "outputs": [
    {
     "name": "stdout",
     "output_type": "stream",
     "text": [
      "Fitting the classifier to the training set\n",
      "Performing with Adaboost\n",
      "Error in\n",
      "             precision    recall  f1-score   support\n",
      "\n",
      "          0       0.20      0.23      0.21        13\n",
      "          1       0.37      0.53      0.43        40\n",
      "          2       0.30      0.27      0.29        26\n",
      "          3       0.43      0.42      0.43        92\n",
      "          4       0.13      0.06      0.08        33\n",
      "          5       0.17      0.18      0.17        11\n",
      "          6       0.30      0.33      0.32        27\n",
      "\n",
      "avg / total       0.33      0.34      0.33       242\n",
      "\n",
      "Predicting people's names on the test set\n",
      "done in 0.001s\n",
      "[3 3 3 0 6 3 2 5 6 4 6 6 3 5 5 2 3 1 2 3 0 1 3 3 3 1 1 1 5 6 3 3 1 6 3 3 3\n",
      " 6 3 3 3 3 2 1 1 3 1 3 6 2 3 3 3 4 1 3 3 1 3 0 6 3 2 3 4 3 5 3 2 5 3 1 4 6\n",
      " 3 2 2 5 5 3 5 3 6 3 6 0 2 6 2 3 2 1 1 3 6 2 3 2 3 6 1 4 5 3 1 3 4 4 2 5 3\n",
      " 3 3 3 3 2 6 1 2 3 1 3 2 3 6 3 5 4 3 4 3 3 2 1 1 1 0 0 6 3 1 3 3 2 6 3 5 3\n",
      " 3 3 3 4 5 3 6 3 1 6 3 4 1 6 3 3 3 2 6 2 1 3 6 2 3 3 1 1 3 3 2 1 3 3 1 3 1\n",
      " 6 2 1 1 4 1 3 3 3 3 3 2 3 1 2 3 1 4 3 3 2 3 5 1 2 3 6 3 6 6 1 3 2 3 3 0 4\n",
      " 0 3 6 5 3 5 3 0 5 3 3 4 3 6 0 3 3 1 4 6 2 1 3 6 3 1 4 3 3 1 0 1 3 3 0 3 0\n",
      " 3 3 3 3 2 3 3 3 6 3 5 6 3 3 3 3 3 3 6 1 1 3 5 3 3 3 1 3 1 3 3 1 3 1 3 6 5\n",
      " 3 1 4 6 6 5 3 3 1 3 5 3 2 0 0 3 2 3 3 2 3 6 3 1 0 3]\n"
     ]
    }
   ],
   "source": [
    "# DT with Adaboost\n",
    "print(\"Fitting the classifier to the training set\")\n",
    "t0 = time()\n",
    "\n",
    "print(\"Performing with Adaboost\")\n",
    "clf = AdaBoostClassifier(DecisionTreeClassifier(class_weight='balanced'), n_estimators=300)\n",
    "clf = clf.fit(X_test_pca_split, y_test_pca_split)\n",
    "\n",
    "# scores = cross_val_score(clf, X_train_pca, y_train)\n",
    "# print(\"Mean scores:\", scores.mean())\n",
    "\n",
    "print(\"Error in\")\n",
    "internal_pred = clf.predict(ZX_test_pca_split)\n",
    "print(classification_report(Zy_test_pca_split, internal_pred))\n",
    "\n",
    "print(\"Predicting people's names on the test set\")\n",
    "t0 = time()\n",
    "y_pred = clf.predict(X_test_pca)\n",
    "print(\"done in %0.3fs\" % (time() - t0))\n",
    "\n",
    "print(y_pred)\n",
    "saveTestResults(y_pred, 'testResults_DTwithAdaboost.csv')"
   ]
  },
  {
   "cell_type": "code",
   "execution_count": 53,
   "metadata": {
    "collapsed": false
   },
   "outputs": [
    {
     "name": "stdout",
     "output_type": "stream",
     "text": [
      "Fitting the classifier to the training set\n",
      "Performing with Adaboost\n",
      "Error in\n",
      "             precision    recall  f1-score   support\n",
      "\n",
      "          0       1.00      0.46      0.63        13\n",
      "          1       0.92      0.85      0.88        40\n",
      "          2       0.86      0.46      0.60        26\n",
      "          3       0.66      0.91      0.76        92\n",
      "          4       0.80      0.61      0.69        33\n",
      "          5       0.90      0.82      0.86        11\n",
      "          6       0.77      0.63      0.69        27\n",
      "\n",
      "avg / total       0.78      0.75      0.75       242\n",
      "\n",
      "Predicting people's names on the test set\n",
      "done in 14.468s\n",
      "[3 3 6 1 3 2 0 3 0 1 1 3 3 3 3 0 1 1 4 1 3 0 0 0 3 0 3 1 6 3 2 6 3 2 1 6 3\n",
      " 6 5 6 3 3 3 1 3 3 2 0 2 4 3 3 3 3 4 3 1 0 4 0 6 4 2 0 4 3 1 3 3 3 3 3 3 2\n",
      " 3 3 2 3 3 3 3 3 1 3 6 0 3 1 2 1 0 4 2 3 6 3 3 5 1 3 3 6 3 3 4 3 3 6 3 4 3\n",
      " 3 0 5 3 1 6 5 3 3 2 0 5 3 6 3 5 1 2 3 2 3 3 3 3 3 1 2 3 3 1 6 1 3 3 1 1 2\n",
      " 3 3 3 4 1 1 6 3 5 3 3 3 1 3 3 0 5 4 6 2 3 1 3 2 3 3 3 1 5 3 3 3 0 3 1 0 0\n",
      " 6 1 1 3 5 1 5 6 3 3 3 2 3 1 3 3 2 3 3 3 2 2 6 1 3 4 0 6 6 2 1 3 2 3 3 1 6\n",
      " 2 3 6 6 3 6 3 0 3 3 3 6 3 2 2 6 4 6 3 6 2 5 4 3 3 1 4 5 3 1 0 1 1 1 1 0 5\n",
      " 2 3 6 3 3 3 3 3 1 3 3 0 3 4 3 1 3 6 6 1 1 3 3 3 6 4 3 0 2 3 3 3 1 6 3 3 5\n",
      " 2 3 3 3 4 1 2 3 3 3 4 3 3 1 5 2 1 0 3 3 3 3 3 3 3 3]\n"
     ]
    }
   ],
   "source": [
    "# Linear SVC with Adaboost\n",
    "print(\"Fitting the classifier to the training set\")\n",
    "t0 = time()\n",
    "\n",
    "print(\"Performing with Adaboost\")\n",
    "clf = AdaBoostClassifier(SVC(kernel='linear', class_weight='balanced', C=1, gamma=0.005, probability=True), n_estimators=300, algorithm='SAMME')\n",
    "clf = clf.fit(X_test_pca_split, y_test_pca_split)\n",
    "\n",
    "print(\"Error in\")\n",
    "internal_pred = clf.predict(ZX_test_pca_split)\n",
    "print(classification_report(Zy_test_pca_split, internal_pred))\n",
    "\n",
    "print(\"Predicting people's names on the test set\")\n",
    "t0 = time()\n",
    "y_pred = clf.predict(X_test_pca)\n",
    "print(\"done in %0.3fs\" % (time() - t0))\n",
    "\n",
    "print(y_pred)\n",
    "saveTestResults(y_pred, 'testResults_LinearSVCwithAdaboost.csv')"
   ]
  },
  {
   "cell_type": "code",
   "execution_count": 20,
   "metadata": {
    "collapsed": true
   },
   "outputs": [],
   "source": [
    "# print(classification_report(y_test, y_pred))\n",
    "# print(confusion_matrix(y_test, y_pred, labels=range(n_classes)))\n",
    "#\n",
    "# def plot_gallery(images, titles, h, w, n_row=3, n_col=4):\n",
    "#     \"\"\"Helper function to plot a gallery of portraits\"\"\"\n",
    "#     plt.figure(figsize=(1.8 * n_col, 2.4 * n_row))\n",
    "#     plt.subplots_adjust(bottom=0, left=.01, right=.99, top=.90, hspace=.35)\n",
    "#     for i in range(n_row * n_col):\n",
    "#         plt.subplot(n_row, n_col, i + 1)\n",
    "#         plt.imshow(images[i].reshape((h, w)), cmap=plt.cm.gray)\n",
    "#         plt.title(titles[i], size=12)\n",
    "#         plt.xticks(())\n",
    "#         plt.yticks(())\n",
    "#\n",
    "#\n",
    "# # plot the result of the prediction on a portion of the test set\n",
    "#\n",
    "# # plot the gallery of the most significative eigenfaces\n",
    "#\n",
    "# eigenface_titles = [\"eigenface %d\" % i for i in range(eigenfaces.shape[0])]\n",
    "# plot_gallery(eigenfaces, eigenface_titles, h, w)\n",
    "#\n",
    "# plt.show()"
   ]
  },
  {
   "cell_type": "code",
   "execution_count": null,
   "metadata": {
    "collapsed": true
   },
   "outputs": [],
   "source": []
  }
 ],
 "metadata": {
  "anaconda-cloud": {},
  "kernelspec": {
   "display_name": "Python [default]",
   "language": "python",
   "name": "python3"
  },
  "language_info": {
   "codemirror_mode": {
    "name": "ipython",
    "version": 3
   },
   "file_extension": ".py",
   "mimetype": "text/x-python",
   "name": "python",
   "nbconvert_exporter": "python",
   "pygments_lexer": "ipython3",
   "version": "3.5.2"
  }
 },
 "nbformat": 4,
 "nbformat_minor": 1
}
