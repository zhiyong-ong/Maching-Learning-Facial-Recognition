{
 "cells": [
  {
   "cell_type": "markdown",
   "metadata": {
    "collapsed": true
   },
   "source": [
    "# Homework #3 - Kaggle Competition"
   ]
  },
  {
   "cell_type": "code",
   "execution_count": 1,
   "metadata": {
    "collapsed": true
   },
   "outputs": [],
   "source": [
    "from time import time\n",
    "import logging\n",
    "import matplotlib.pyplot as plt\n",
    "import numpy as np\n",
    "from sklearn.decomposition import PCA\n",
    "from sklearn.svm import SVC\n",
    "from sklearn.svm import LinearSVC\n",
    "from sklearn.model_selection import train_test_split\n",
    "from sklearn.model_selection import GridSearchCV\n",
    "from sklearn.metrics import classification_report\n",
    "from sklearn.metrics import confusion_matrix\n",
    "\n",
    "from sklearn.model_selection import cross_val_score\n",
    "from sklearn.ensemble import AdaBoostClassifier\n",
    "from sklearn.multiclass import OneVsOneClassifier\n",
    "from sklearn.tree import DecisionTreeClassifier\n",
    "\n",
    "from sklearn.neural_network import MLPClassifier"
   ]
  },
  {
   "cell_type": "code",
   "execution_count": 2,
   "metadata": {
    "collapsed": false
   },
   "outputs": [],
   "source": [
    "#  Images are single-channel with pixel intensity represented by a float value from 0 to 255,\n",
    "#  the single-channel intensity is the mean value of the original RGB channel intensities.\n",
    "\n",
    "# X_train.npy: training data numpy array.\n",
    "# Each row in the array corresponds to an image unrolled to a vector (50 x 37 = 1850 dimension)\n",
    "X_train = np.load('X_train.npy')\n",
    "# y_train.npy: labels (0-6) of each data corresponding to the image in the same row in X_train.npy\n",
    "y_train = np.load('y_train.npy')"
   ]
  },
  {
   "cell_type": "code",
   "execution_count": 3,
   "metadata": {
    "collapsed": false
   },
   "outputs": [],
   "source": [
    "# Generate testResults.csv\n",
    "# Run this with y_pred\n",
    "\n",
    "def saveTestResults(y_pred, filename='testResults.csv'):\n",
    "    fo = open(filename, 'w')\n",
    "    fo.write(\"ImageId,PredictedClass\\n\")\n",
    "    for i in range(len(y_pred)):\n",
    "        if i == len(y_pred) - 1:\n",
    "            fo.write(str(i) + \",\" + str(y_pred[i]))\n",
    "        else:\n",
    "            fo.write(str(i) + \",\" + str(y_pred[i]) + \"\\n\")\n",
    "    fo.close()\n",
    "    \n"
   ]
  },
  {
   "cell_type": "code",
   "execution_count": 4,
   "metadata": {
    "collapsed": false
   },
   "outputs": [
    {
     "name": "stdout",
     "output_type": "stream",
     "text": [
      "Total train data size:\n",
      "n_samples: 724\n",
      "n_features: 1850\n",
      "[1, 6, 3, 2, 5, 0, 4]\n",
      "n_classes: 7\n",
      "Total test data size:\n",
      "n_samples: 242\n",
      "n_features: 1850\n",
      "[4, 0, 1, 3, 2, 6, 5]\n",
      "n_classes: 7\n"
     ]
    }
   ],
   "source": [
    "# to calculate number of classes\n",
    "def calculateClass(label):\n",
    "    n_classes = []\n",
    "    for n_class in label:\n",
    "        if n_class not in n_classes:\n",
    "            n_classes.append(n_class)\n",
    "        else:\n",
    "            continue\n",
    "    print(n_classes)\n",
    "    return len(n_classes)\n",
    " \n",
    "# Split data (75% train, 25% test)\n",
    "X_train_split, X_test_split, y_train_split, y_test_split = train_test_split(X_train, y_train, test_size=0.25, random_state=42)\n",
    "\n",
    "print(\"Total train data size:\")\n",
    "print(\"n_samples: %d\" % len(X_train_split))\n",
    "print(\"n_features: %d\" % len(X_train_split[0]))\n",
    "print(\"n_classes: %d\" % calculateClass(y_train_split))\n",
    "\n",
    "print(\"Total test data size:\")\n",
    "print(\"n_samples: %d\" % len(X_test_split))\n",
    "print(\"n_features: %d\" % len(X_test_split[0]))\n",
    "print(\"n_classes: %d\" % calculateClass(y_test_split))"
   ]
  },
  {
   "cell_type": "code",
   "execution_count": 5,
   "metadata": {
    "collapsed": false
   },
   "outputs": [
    {
     "name": "stdout",
     "output_type": "stream",
     "text": [
      "Extracting the top 150 eigenfaces from 724 faces\n",
      "done in 0.186s\n",
      "Projecting the input data on the eigenfaces orthonormal basis\n",
      "done in 0.014s\n"
     ]
    }
   ],
   "source": [
    "n_components = 150\n",
    "h = 50\n",
    "w = 37\n",
    "print(\"Extracting the top %d eigenfaces from %d faces\"\n",
    "      % (n_components, X_train_split.shape[0]))\n",
    "t0 = time()\n",
    "pca = PCA(n_components=n_components, svd_solver='randomized',\n",
    "          whiten=True).fit(X_train_split)\n",
    "print(\"done in %0.3fs\" % (time() - t0))\n",
    "\n",
    "eigenfaces = pca.components_.reshape((n_components, h, w))\n",
    "print(\"Projecting the input data on the eigenfaces orthonormal basis\")\n",
    "\n",
    "t0 = time()\n",
    "X_train_pca = pca.transform(X_train_split)\n",
    "X_test_pca = pca.transform(X_test_split)\n",
    "\n",
    "print(\"done in %0.3fs\" % (time() - t0))"
   ]
  },
  {
   "cell_type": "code",
   "execution_count": 6,
   "metadata": {
    "collapsed": false
   },
   "outputs": [
    {
     "name": "stdout",
     "output_type": "stream",
     "text": [
      "Fitting the classifier to the training set\n",
      "done in 0.579s\n",
      "Best estimator found by grid search:\n",
      "MLPClassifier(activation='relu', alpha=0.0002, batch_size='auto', beta_1=0.9,\n",
      "       beta_2=0.999, early_stopping=False, epsilon=1e-08,\n",
      "       hidden_layer_sizes=(1000,), learning_rate='constant',\n",
      "       learning_rate_init=0.001, max_iter=200, momentum=0.9,\n",
      "       nesterovs_momentum=True, power_t=0.5, random_state=1, shuffle=True,\n",
      "       solver='lbfgs', tol=0.0001, validation_fraction=0.1, verbose=False,\n",
      "       warm_start=False)\n"
     ]
    }
   ],
   "source": [
    "# GridSearchCV with SVC\n",
    "print(\"Fitting the classifier to the training set\")\n",
    "t0 = time()\n",
    "\n",
    "# Runs with Neural nets.\n",
    "clf = MLPClassifier(solver='lbfgs', alpha=2e-4,\n",
    "                     hidden_layer_sizes=(1000,), random_state=1)\n",
    "clf = clf.fit(X_train_pca, y_train_split)\n",
    "print(\"done in %0.3fs\" % (time() - t0))\n",
    "print(\"Best estimator found by grid search:\")\n",
    "print(clf)\n",
    "\n"
   ]
  },
  {
   "cell_type": "code",
   "execution_count": 7,
   "metadata": {
    "collapsed": false
   },
   "outputs": [
    {
     "name": "stdout",
     "output_type": "stream",
     "text": [
      "Ein\n",
      "             precision    recall  f1-score   support\n",
      "\n",
      "          0       1.00      1.00      1.00        38\n",
      "          1       1.00      1.00      1.00       143\n",
      "          2       1.00      1.00      1.00        59\n",
      "          3       1.00      1.00      1.00       303\n",
      "          4       1.00      1.00      1.00        53\n",
      "          5       1.00      1.00      1.00        49\n",
      "          6       1.00      1.00      1.00        79\n",
      "\n",
      "avg / total       1.00      1.00      1.00       724\n",
      "\n",
      "Eout\n",
      "             precision    recall  f1-score   support\n",
      "\n",
      "          0       1.00      0.62      0.76        13\n",
      "          1       0.97      0.88      0.92        40\n",
      "          2       0.90      0.73      0.81        26\n",
      "          3       0.85      0.96      0.90        92\n",
      "          4       0.83      0.76      0.79        33\n",
      "          5       0.89      0.73      0.80        11\n",
      "          6       0.71      0.89      0.79        27\n",
      "\n",
      "avg / total       0.87      0.86      0.85       242\n",
      "\n",
      "done in 0.008s\n"
     ]
    }
   ],
   "source": [
    "print(\"Ein\")\n",
    "internal_pred = clf.predict(X_train_pca)\n",
    "print(classification_report(y_train_split, internal_pred))\n",
    "\n",
    "print(\"Eout\")\n",
    "t0 = time()\n",
    "y_pred = clf.predict(X_test_pca)\n",
    "print(classification_report(y_test_split, y_pred))\n",
    "print(\"done in %0.3fs\" % (time() - t0))\n"
   ]
  },
  {
   "cell_type": "code",
   "execution_count": null,
   "metadata": {
    "collapsed": true
   },
   "outputs": [],
   "source": []
  },
  {
   "cell_type": "code",
   "execution_count": null,
   "metadata": {
    "collapsed": true
   },
   "outputs": [],
   "source": []
  }
 ],
 "metadata": {
  "kernelspec": {
   "display_name": "Python 3",
   "language": "python",
   "name": "python3"
  },
  "language_info": {
   "codemirror_mode": {
    "name": "ipython",
    "version": 3
   },
   "file_extension": ".py",
   "mimetype": "text/x-python",
   "name": "python",
   "nbconvert_exporter": "python",
   "pygments_lexer": "ipython3",
   "version": "3.4.3"
  }
 },
 "nbformat": 4,
 "nbformat_minor": 0
}
